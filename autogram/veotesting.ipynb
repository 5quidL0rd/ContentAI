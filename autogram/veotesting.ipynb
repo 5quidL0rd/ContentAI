{
 "cells": [
  {
   "cell_type": "code",
   "execution_count": null,
   "id": "b878a935",
   "metadata": {},
   "outputs": [
    {
     "name": "stdout",
     "output_type": "stream",
     "text": [
      "Waiting for video generation to complete...\n",
      "Waiting for video generation to complete...\n",
      "Waiting for video generation to complete...\n",
      "Waiting for video generation to complete...\n",
      "Waiting for video generation to complete...\n",
      "Waiting for video generation to complete...\n",
      "Generated video saved to dialogue_example.mp4\n"
     ]
    }
   ],
   "source": [
    "import time\n",
    "from google import genai\n",
    "from google.genai import types\n",
    "\n",
    "\n",
    "client = genai.Client(api_key='')\n",
    "\n",
    "prompt = \"\"\"A close up of two people staring at a cryptic drawing on a wall, torchlight flickering.\n",
    "A man murmurs, 'This must be it. That's the secret code.' The woman looks at him and whispering excitedly, 'What did you find?'\"\"\"\n",
    "\n",
    "operation = client.models.generate_videos(\n",
    "    model=\"veo-3.1-generate-preview\",\n",
    "    prompt=prompt,\n",
    ")\n",
    "\n",
    "# Poll the operation status until the video is ready.\n",
    "while not operation.done:\n",
    "    print(\"Waiting for video generation to complete...\")\n",
    "    time.sleep(10)\n",
    "    operation = client.operations.get(operation)\n",
    "\n",
    "# Download the generated video.\n",
    "generated_video = operation.response.generated_videos[0]\n",
    "client.files.download(file=generated_video.video)\n",
    "generated_video.video.save(\"dialogue_example.mp4\")\n",
    "print(\"Generated video saved to dialogue_example.mp4\")"
   ]
  },
  {
   "cell_type": "code",
   "execution_count": null,
   "id": "ed0d6a74",
   "metadata": {},
   "outputs": [],
   "source": []
  }
 ],
 "metadata": {
  "kernelspec": {
   "display_name": ".venv",
   "language": "python",
   "name": "python3"
  },
  "language_info": {
   "codemirror_mode": {
    "name": "ipython",
    "version": 3
   },
   "file_extension": ".py",
   "mimetype": "text/x-python",
   "name": "python",
   "nbconvert_exporter": "python",
   "pygments_lexer": "ipython3",
   "version": "3.12.7"
  }
 },
 "nbformat": 4,
 "nbformat_minor": 5
}
